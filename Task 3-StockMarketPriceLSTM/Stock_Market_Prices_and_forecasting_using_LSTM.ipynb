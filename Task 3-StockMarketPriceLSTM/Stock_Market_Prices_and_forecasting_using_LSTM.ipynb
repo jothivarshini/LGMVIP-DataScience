{
  "nbformat": 4,
  "nbformat_minor": 0,
  "metadata": {
    "colab": {
      "name": "Stock Market Prices and forecasting using LSTM.ipynb",
      "provenance": [],
      "toc_visible": true
    },
    "kernelspec": {
      "name": "python3",
      "display_name": "Python 3"
    },
    "language_info": {
      "name": "python"
    }
  },
  "cells": [
    {
      "cell_type": "markdown",
      "metadata": {
        "id": "60UETIRwju_s"
      },
      "source": [
        "# **Importing Libraries**"
      ]
    },
    {
      "cell_type": "code",
      "metadata": {
        "id": "tuv9pB_jfNq5"
      },
      "source": [
        "import pandas as pd \n",
        "import numpy as np \n",
        "import matplotlib.pyplot as plt\n",
        "import io\n",
        "from sklearn.preprocessing import MinMaxScaler"
      ],
      "execution_count": 48,
      "outputs": []
    },
    {
      "cell_type": "code",
      "metadata": {
        "id": "Is5uiB14hcZd"
      },
      "source": [
        "from sklearn.preprocessing import MinMaxScaler\n",
        "from keras.layers import LSTM, Dense, Dropout\n",
        "from sklearn.model_selection import TimeSeriesSplit\n",
        "from sklearn.metrics import mean_squared_error, r2_score\n",
        "import matplotlib.dates as mandates\n",
        "from sklearn.preprocessing import MinMaxScaler\n",
        "from sklearn import linear_model\n",
        "from keras.models import Sequential\n",
        "from keras.layers import Dense\n",
        "import keras.backend as K\n",
        "from keras.callbacks import EarlyStopping\n",
        "from tensorflow.keras.optimizers import Adam\n",
        "from keras.models import load_model\n",
        "from keras.layers import LSTM\n",
        "from keras.utils.vis_utils import plot_model"
      ],
      "execution_count": 66,
      "outputs": []
    },
    {
      "cell_type": "markdown",
      "metadata": {
        "id": "TWdCEBUtjzmB"
      },
      "source": [
        "# **Calling dataset and printing**"
      ]
    },
    {
      "cell_type": "code",
      "metadata": {
        "colab": {
          "resources": {
            "http://localhost:8080/nbextensions/google.colab/files.js": {
              "data": "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",
              "ok": true,
              "headers": [
                [
                  "content-type",
                  "application/javascript"
                ]
              ],
              "status": 200,
              "status_text": ""
            }
          },
          "base_uri": "https://localhost:8080/",
          "height": 72
        },
        "id": "z1aWKPYcfPj3",
        "outputId": "d6cf9f92-d53f-4357-c959-54e2252d2058"
      },
      "source": [
        "from google.colab import files\n",
        "uploaded = files.upload()\n",
        "dataset = pd.read_csv(io.BytesIO(uploaded['stocks.csv']))\n"
      ],
      "execution_count": 53,
      "outputs": [
        {
          "output_type": "display_data",
          "data": {
            "text/html": [
              "\n",
              "     <input type=\"file\" id=\"files-08abbbcf-7f83-4355-bca0-c20dcdee7b0b\" name=\"files[]\" multiple disabled\n",
              "        style=\"border:none\" />\n",
              "     <output id=\"result-08abbbcf-7f83-4355-bca0-c20dcdee7b0b\">\n",
              "      Upload widget is only available when the cell has been executed in the\n",
              "      current browser session. Please rerun this cell to enable.\n",
              "      </output>\n",
              "      <script src=\"/nbextensions/google.colab/files.js\"></script> "
            ],
            "text/plain": [
              "<IPython.core.display.HTML object>"
            ]
          },
          "metadata": {}
        },
        {
          "output_type": "stream",
          "name": "stdout",
          "text": [
            "Saving stocks.csv to stocks (1).csv\n"
          ]
        }
      ]
    },
    {
      "cell_type": "code",
      "metadata": {
        "id": "bfXSzZ5egKFb"
      },
      "source": [
        "dataset"
      ],
      "execution_count": null,
      "outputs": []
    },
    {
      "cell_type": "markdown",
      "metadata": {
        "id": "SN4CrgcKj5ZN"
      },
      "source": [
        "# **Performing Functions on Dataset**"
      ]
    },
    {
      "cell_type": "code",
      "metadata": {
        "colab": {
          "base_uri": "https://localhost:8080/",
          "height": 297
        },
        "id": "oNeEeyAngNfA",
        "outputId": "6c29e5b1-e655-4028-d8e7-b78f9675e1bf"
      },
      "source": [
        "dataset.describe()"
      ],
      "execution_count": 55,
      "outputs": [
        {
          "output_type": "execute_result",
          "data": {
            "text/html": [
              "<div>\n",
              "<style scoped>\n",
              "    .dataframe tbody tr th:only-of-type {\n",
              "        vertical-align: middle;\n",
              "    }\n",
              "\n",
              "    .dataframe tbody tr th {\n",
              "        vertical-align: top;\n",
              "    }\n",
              "\n",
              "    .dataframe thead th {\n",
              "        text-align: right;\n",
              "    }\n",
              "</style>\n",
              "<table border=\"1\" class=\"dataframe\">\n",
              "  <thead>\n",
              "    <tr style=\"text-align: right;\">\n",
              "      <th></th>\n",
              "      <th>Open</th>\n",
              "      <th>High</th>\n",
              "      <th>Low</th>\n",
              "      <th>Last</th>\n",
              "      <th>Close</th>\n",
              "      <th>Total Trade Quantity</th>\n",
              "      <th>Turnover (Lacs)</th>\n",
              "    </tr>\n",
              "  </thead>\n",
              "  <tbody>\n",
              "    <tr>\n",
              "      <th>count</th>\n",
              "      <td>2035.000000</td>\n",
              "      <td>2035.000000</td>\n",
              "      <td>2035.000000</td>\n",
              "      <td>2035.000000</td>\n",
              "      <td>2035.00000</td>\n",
              "      <td>2.035000e+03</td>\n",
              "      <td>2035.000000</td>\n",
              "    </tr>\n",
              "    <tr>\n",
              "      <th>mean</th>\n",
              "      <td>149.713735</td>\n",
              "      <td>151.992826</td>\n",
              "      <td>147.293931</td>\n",
              "      <td>149.474251</td>\n",
              "      <td>149.45027</td>\n",
              "      <td>2.335681e+06</td>\n",
              "      <td>3899.980565</td>\n",
              "    </tr>\n",
              "    <tr>\n",
              "      <th>std</th>\n",
              "      <td>48.664509</td>\n",
              "      <td>49.413109</td>\n",
              "      <td>47.931958</td>\n",
              "      <td>48.732570</td>\n",
              "      <td>48.71204</td>\n",
              "      <td>2.091778e+06</td>\n",
              "      <td>4570.767877</td>\n",
              "    </tr>\n",
              "    <tr>\n",
              "      <th>min</th>\n",
              "      <td>81.100000</td>\n",
              "      <td>82.800000</td>\n",
              "      <td>80.000000</td>\n",
              "      <td>81.000000</td>\n",
              "      <td>80.95000</td>\n",
              "      <td>3.961000e+04</td>\n",
              "      <td>37.040000</td>\n",
              "    </tr>\n",
              "    <tr>\n",
              "      <th>25%</th>\n",
              "      <td>120.025000</td>\n",
              "      <td>122.100000</td>\n",
              "      <td>118.300000</td>\n",
              "      <td>120.075000</td>\n",
              "      <td>120.05000</td>\n",
              "      <td>1.146444e+06</td>\n",
              "      <td>1427.460000</td>\n",
              "    </tr>\n",
              "    <tr>\n",
              "      <th>50%</th>\n",
              "      <td>141.500000</td>\n",
              "      <td>143.400000</td>\n",
              "      <td>139.600000</td>\n",
              "      <td>141.100000</td>\n",
              "      <td>141.25000</td>\n",
              "      <td>1.783456e+06</td>\n",
              "      <td>2512.030000</td>\n",
              "    </tr>\n",
              "    <tr>\n",
              "      <th>75%</th>\n",
              "      <td>157.175000</td>\n",
              "      <td>159.400000</td>\n",
              "      <td>155.150000</td>\n",
              "      <td>156.925000</td>\n",
              "      <td>156.90000</td>\n",
              "      <td>2.813594e+06</td>\n",
              "      <td>4539.015000</td>\n",
              "    </tr>\n",
              "    <tr>\n",
              "      <th>max</th>\n",
              "      <td>327.700000</td>\n",
              "      <td>328.750000</td>\n",
              "      <td>321.650000</td>\n",
              "      <td>325.950000</td>\n",
              "      <td>325.75000</td>\n",
              "      <td>2.919102e+07</td>\n",
              "      <td>55755.080000</td>\n",
              "    </tr>\n",
              "  </tbody>\n",
              "</table>\n",
              "</div>"
            ],
            "text/plain": [
              "              Open         High  ...  Total Trade Quantity  Turnover (Lacs)\n",
              "count  2035.000000  2035.000000  ...          2.035000e+03      2035.000000\n",
              "mean    149.713735   151.992826  ...          2.335681e+06      3899.980565\n",
              "std      48.664509    49.413109  ...          2.091778e+06      4570.767877\n",
              "min      81.100000    82.800000  ...          3.961000e+04        37.040000\n",
              "25%     120.025000   122.100000  ...          1.146444e+06      1427.460000\n",
              "50%     141.500000   143.400000  ...          1.783456e+06      2512.030000\n",
              "75%     157.175000   159.400000  ...          2.813594e+06      4539.015000\n",
              "max     327.700000   328.750000  ...          2.919102e+07     55755.080000\n",
              "\n",
              "[8 rows x 7 columns]"
            ]
          },
          "metadata": {},
          "execution_count": 55
        }
      ]
    },
    {
      "cell_type": "code",
      "metadata": {
        "id": "LZFh474pgQOp"
      },
      "source": [
        "dataset.tail()"
      ],
      "execution_count": null,
      "outputs": []
    },
    {
      "cell_type": "code",
      "metadata": {
        "colab": {
          "base_uri": "https://localhost:8080/"
        },
        "id": "4P3PVfMXgV-w",
        "outputId": "ffbabb66-ccf4-41a3-97f3-75fe78cec5ec"
      },
      "source": [
        "dataset.dtypes"
      ],
      "execution_count": 57,
      "outputs": [
        {
          "output_type": "execute_result",
          "data": {
            "text/plain": [
              "Date                     object\n",
              "Open                    float64\n",
              "High                    float64\n",
              "Low                     float64\n",
              "Last                    float64\n",
              "Close                   float64\n",
              "Total Trade Quantity      int64\n",
              "Turnover (Lacs)         float64\n",
              "dtype: object"
            ]
          },
          "metadata": {},
          "execution_count": 57
        }
      ]
    },
    {
      "cell_type": "code",
      "metadata": {
        "colab": {
          "base_uri": "https://localhost:8080/",
          "height": 282
        },
        "id": "IZrA5nYKgZy-",
        "outputId": "ff3f7e08-f1ed-46ea-fb49-c514b321d6ee"
      },
      "source": [
        "dataset['Close'].plot()"
      ],
      "execution_count": 65,
      "outputs": [
        {
          "output_type": "execute_result",
          "data": {
            "text/plain": [
              "<matplotlib.axes._subplots.AxesSubplot at 0x7fcd9b540c10>"
            ]
          },
          "metadata": {},
          "execution_count": 65
        },
        {
          "output_type": "display_data",
          "data": {
            "image/png": "[encoded data removed]",
            "text/plain": [
              "<Figure size 432x288 with 1 Axes>"
            ]
          },
          "metadata": {
            "needs_background": "light"
          }
        }
      ]
    },
    {
      "cell_type": "markdown",
      "metadata": {
        "id": "eC1uLh-CkDei"
      },
      "source": [
        "# **Setting features**"
      ]
    },
    {
      "cell_type": "code",
      "metadata": {
        "id": "NSD8TDFohbVG"
      },
      "source": [
        "output_var = pd.DataFrame(df['Close'])"
      ],
      "execution_count": 67,
      "outputs": []
    },
    {
      "cell_type": "code",
      "metadata": {
        "id": "DLl5tzOOhStA"
      },
      "source": [
        "features = ['Open' , 'High' , 'Low' ,  'Turnover (Lacs)' ]"
      ],
      "execution_count": 63,
      "outputs": []
    },
    {
      "cell_type": "markdown",
      "metadata": {
        "id": "MRlAlkw7kJ7D"
      },
      "source": [
        "# **Scaling of data**"
      ]
    },
    {
      "cell_type": "code",
      "metadata": {
        "colab": {
          "base_uri": "https://localhost:8080/",
          "height": 204
        },
        "id": "IERehbaHhEc3",
        "outputId": "50497cb2-e79e-4501-99a3-a067d4657761"
      },
      "source": [
        "scaler = MinMaxScaler()\n",
        "feature_transform = scaler.fit_transform(df[features])\n",
        "feature_transform= pd.DataFrame(columns=features, data=feature_transform, index=df.index)\n",
        "feature_transform.head()"
      ],
      "execution_count": 64,
      "outputs": [
        {
          "output_type": "execute_result",
          "data": {
            "text/html": [
              "<div>\n",
              "<style scoped>\n",
              "    .dataframe tbody tr th:only-of-type {\n",
              "        vertical-align: middle;\n",
              "    }\n",
              "\n",
              "    .dataframe tbody tr th {\n",
              "        vertical-align: top;\n",
              "    }\n",
              "\n",
              "    .dataframe thead th {\n",
              "        text-align: right;\n",
              "    }\n",
              "</style>\n",
              "<table border=\"1\" class=\"dataframe\">\n",
              "  <thead>\n",
              "    <tr style=\"text-align: right;\">\n",
              "      <th></th>\n",
              "      <th>Open</th>\n",
              "      <th>High</th>\n",
              "      <th>Low</th>\n",
              "      <th>Turnover (Lacs)</th>\n",
              "    </tr>\n",
              "  </thead>\n",
              "  <tbody>\n",
              "    <tr>\n",
              "      <th>0</th>\n",
              "      <td>0.620235</td>\n",
              "      <td>0.622688</td>\n",
              "      <td>0.621560</td>\n",
              "      <td>0.127882</td>\n",
              "    </tr>\n",
              "    <tr>\n",
              "      <th>1</th>\n",
              "      <td>0.622263</td>\n",
              "      <td>0.626144</td>\n",
              "      <td>0.625285</td>\n",
              "      <td>0.212192</td>\n",
              "    </tr>\n",
              "    <tr>\n",
              "      <th>2</th>\n",
              "      <td>0.644363</td>\n",
              "      <td>0.639154</td>\n",
              "      <td>0.631078</td>\n",
              "      <td>0.093535</td>\n",
              "    </tr>\n",
              "    <tr>\n",
              "      <th>3</th>\n",
              "      <td>0.617194</td>\n",
              "      <td>0.625940</td>\n",
              "      <td>0.629009</td>\n",
              "      <td>0.098117</td>\n",
              "    </tr>\n",
              "    <tr>\n",
              "      <th>4</th>\n",
              "      <td>0.618208</td>\n",
              "      <td>0.635902</td>\n",
              "      <td>0.623836</td>\n",
              "      <td>0.142907</td>\n",
              "    </tr>\n",
              "  </tbody>\n",
              "</table>\n",
              "</div>"
            ],
            "text/plain": [
              "       Open      High       Low  Turnover (Lacs)\n",
              "0  0.620235  0.622688  0.621560         0.127882\n",
              "1  0.622263  0.626144  0.625285         0.212192\n",
              "2  0.644363  0.639154  0.631078         0.093535\n",
              "3  0.617194  0.625940  0.629009         0.098117\n",
              "4  0.618208  0.635902  0.623836         0.142907"
            ]
          },
          "metadata": {},
          "execution_count": 64
        }
      ]
    },
    {
      "cell_type": "markdown",
      "metadata": {
        "id": "C451iDZekPXa"
      },
      "source": [
        "# **Training of Model**"
      ]
    },
    {
      "cell_type": "code",
      "metadata": {
        "id": "WY0m6x-Hhgqh"
      },
      "source": [
        "time_split= TimeSeriesSplit(n_splits=10)\n",
        "for train_index, test_index in timesplit.split(feature_transform):\n",
        "        X_train, X_test = feature_transform[:len(train_index)], feature_transform[len(train_index): (len(train_index)+len(test_index))]\n",
        "        y_train, y_test = output_var[:len(train_index)].values.ravel(), output_var[len(train_index): (len(train_index)+len(test_index))].values.ravel()"
      ],
      "execution_count": 69,
      "outputs": []
    },
    {
      "cell_type": "code",
      "metadata": {
        "id": "58p87DfMhthT"
      },
      "source": [
        "trainX =np.array(X_train)\n",
        "testX =np.array(X_test)\n",
        "X_train = trainX.reshape(X_train.shape[0], 1, X_train.shape[1])\n",
        "X_test = testX.reshape(X_test.shape[0], 1, X_test.shape[1])"
      ],
      "execution_count": 70,
      "outputs": []
    },
    {
      "cell_type": "code",
      "metadata": {
        "colab": {
          "base_uri": "https://localhost:8080/",
          "height": 312
        },
        "id": "rXLZzG3QhxjF",
        "outputId": "bedafe3c-ef83-42cf-b48a-a18b78d59561"
      },
      "source": [
        "lstm = Sequential()\n",
        "lstm.add(LSTM(25, input_shape=(1, trainX.shape[1]), activation='relu', return_sequences=False))\n",
        "lstm.add(Dense(1))\n",
        "lstm.compile(loss='mean_squared_error', optimizer='adam')\n",
        "plot_model(lstm, show_shapes=True, show_layer_names=True)"
      ],
      "execution_count": 71,
      "outputs": [
        {
          "output_type": "execute_result",
          "data": {
            "image/png": "[encoded data removed]",
            "text/plain": [
              "<IPython.core.display.Image object>"
            ]
          },
          "metadata": {},
          "execution_count": 71
        }
      ]
    },
    {
      "cell_type": "code",
      "metadata": {
        "colab": {
          "base_uri": "https://localhost:8080/"
        },
        "id": "qs5f-KJDh3az",
        "outputId": "3a53e9dd-3361-4bad-f034-d43c03682747"
      },
      "source": [
        "history = lstm.fit(X_train, y_train, epochs=100, batch_size=8, verbose=1, shuffle=False)"
      ],
      "execution_count": 73,
      "outputs": [
        {
          "output_type": "stream",
          "name": "stdout",
          "text": [
            "Epoch 1/100\n",
            "232/232 [==============================] - 2s 2ms/step - loss: 25809.5098\n",
            "Epoch 2/100\n",
            "232/232 [==============================] - 0s 2ms/step - loss: 25104.7656\n",
            "Epoch 3/100\n",
            "232/232 [==============================] - 0s 2ms/step - loss: 22754.4414\n",
            "Epoch 4/100\n",
            "232/232 [==============================] - 0s 2ms/step - loss: 19075.5762\n",
            "Epoch 5/100\n",
            "232/232 [==============================] - 1s 2ms/step - loss: 14782.0625\n",
            "Epoch 6/100\n",
            "232/232 [==============================] - 0s 2ms/step - loss: 10593.5537\n",
            "Epoch 7/100\n",
            "232/232 [==============================] - 0s 2ms/step - loss: 6983.4062\n",
            "Epoch 8/100\n",
            "232/232 [==============================] - 0s 2ms/step - loss: 4191.9136\n",
            "Epoch 9/100\n",
            "232/232 [==============================] - 0s 2ms/step - loss: 2263.0332\n",
            "Epoch 10/100\n",
            "232/232 [==============================] - 0s 2ms/step - loss: 1088.0781\n",
            "Epoch 11/100\n",
            "232/232 [==============================] - 0s 2ms/step - loss: 468.2444\n",
            "Epoch 12/100\n",
            "232/232 [==============================] - 0s 2ms/step - loss: 189.4991\n",
            "Epoch 13/100\n",
            "232/232 [==============================] - 0s 2ms/step - loss: 83.1474\n",
            "Epoch 14/100\n",
            "232/232 [==============================] - 0s 2ms/step - loss: 47.9115\n",
            "Epoch 15/100\n",
            "232/232 [==============================] - 0s 2ms/step - loss: 36.8249\n",
            "Epoch 16/100\n",
            "232/232 [==============================] - 0s 2ms/step - loss: 32.7575\n",
            "Epoch 17/100\n",
            "232/232 [==============================] - 0s 2ms/step - loss: 30.6037\n",
            "Epoch 18/100\n",
            "232/232 [==============================] - 0s 2ms/step - loss: 29.0090\n",
            "Epoch 19/100\n",
            "232/232 [==============================] - 0s 2ms/step - loss: 27.6031\n",
            "Epoch 20/100\n",
            "232/232 [==============================] - 0s 2ms/step - loss: 26.2581\n",
            "Epoch 21/100\n",
            "232/232 [==============================] - 0s 2ms/step - loss: 25.0017\n",
            "Epoch 22/100\n",
            "232/232 [==============================] - 0s 2ms/step - loss: 23.7561\n",
            "Epoch 23/100\n",
            "232/232 [==============================] - 0s 2ms/step - loss: 22.5488\n",
            "Epoch 24/100\n",
            "232/232 [==============================] - 0s 2ms/step - loss: 21.4070\n",
            "Epoch 25/100\n",
            "232/232 [==============================] - 0s 2ms/step - loss: 20.3110\n",
            "Epoch 26/100\n",
            "232/232 [==============================] - 0s 2ms/step - loss: 19.2569\n",
            "Epoch 27/100\n",
            "232/232 [==============================] - 0s 2ms/step - loss: 18.2568\n",
            "Epoch 28/100\n",
            "232/232 [==============================] - 0s 2ms/step - loss: 17.3016\n",
            "Epoch 29/100\n",
            "232/232 [==============================] - 0s 2ms/step - loss: 16.3917\n",
            "Epoch 30/100\n",
            "232/232 [==============================] - 0s 2ms/step - loss: 15.5218\n",
            "Epoch 31/100\n",
            "232/232 [==============================] - 0s 2ms/step - loss: 14.6852\n",
            "Epoch 32/100\n",
            "232/232 [==============================] - 0s 2ms/step - loss: 13.8835\n",
            "Epoch 33/100\n",
            "232/232 [==============================] - 0s 2ms/step - loss: 13.1166\n",
            "Epoch 34/100\n",
            "232/232 [==============================] - 0s 2ms/step - loss: 12.3868\n",
            "Epoch 35/100\n",
            "232/232 [==============================] - 0s 2ms/step - loss: 11.6904\n",
            "Epoch 36/100\n",
            "232/232 [==============================] - 0s 2ms/step - loss: 11.0317\n",
            "Epoch 37/100\n",
            "232/232 [==============================] - 0s 2ms/step - loss: 10.4056\n",
            "Epoch 38/100\n",
            "232/232 [==============================] - 0s 2ms/step - loss: 9.8155\n",
            "Epoch 39/100\n",
            "232/232 [==============================] - 0s 2ms/step - loss: 9.2597\n",
            "Epoch 40/100\n",
            "232/232 [==============================] - 0s 2ms/step - loss: 8.7408\n",
            "Epoch 41/100\n",
            "232/232 [==============================] - 0s 2ms/step - loss: 8.2573\n",
            "Epoch 42/100\n",
            "232/232 [==============================] - 0s 2ms/step - loss: 7.8084\n",
            "Epoch 43/100\n",
            "232/232 [==============================] - 0s 2ms/step - loss: 7.3947\n",
            "Epoch 44/100\n",
            "232/232 [==============================] - 0s 2ms/step - loss: 7.0164\n",
            "Epoch 45/100\n",
            "232/232 [==============================] - 0s 2ms/step - loss: 6.6725\n",
            "Epoch 46/100\n",
            "232/232 [==============================] - 0s 2ms/step - loss: 6.3624\n",
            "Epoch 47/100\n",
            "232/232 [==============================] - 0s 2ms/step - loss: 6.0851\n",
            "Epoch 48/100\n",
            "232/232 [==============================] - 0s 2ms/step - loss: 5.8391\n",
            "Epoch 49/100\n",
            "232/232 [==============================] - 0s 2ms/step - loss: 5.6230\n",
            "Epoch 50/100\n",
            "232/232 [==============================] - 0s 2ms/step - loss: 5.4350\n",
            "Epoch 51/100\n",
            "232/232 [==============================] - 0s 2ms/step - loss: 5.2730\n",
            "Epoch 52/100\n",
            "232/232 [==============================] - 0s 2ms/step - loss: 5.1347\n",
            "Epoch 53/100\n",
            "232/232 [==============================] - 0s 2ms/step - loss: 5.0176\n",
            "Epoch 54/100\n",
            "232/232 [==============================] - 0s 2ms/step - loss: 4.9192\n",
            "Epoch 55/100\n",
            "232/232 [==============================] - 0s 2ms/step - loss: 4.8370\n",
            "Epoch 56/100\n",
            "232/232 [==============================] - 0s 2ms/step - loss: 4.7686\n",
            "Epoch 57/100\n",
            "232/232 [==============================] - 0s 2ms/step - loss: 4.7112\n",
            "Epoch 58/100\n",
            "232/232 [==============================] - 0s 2ms/step - loss: 4.6632\n",
            "Epoch 59/100\n",
            "232/232 [==============================] - 0s 2ms/step - loss: 4.6226\n",
            "Epoch 60/100\n",
            "232/232 [==============================] - 0s 2ms/step - loss: 4.5878\n",
            "Epoch 61/100\n",
            "232/232 [==============================] - 0s 2ms/step - loss: 4.5575\n",
            "Epoch 62/100\n",
            "232/232 [==============================] - 0s 2ms/step - loss: 4.5313\n",
            "Epoch 63/100\n",
            "232/232 [==============================] - 0s 2ms/step - loss: 4.5079\n",
            "Epoch 64/100\n",
            "232/232 [==============================] - 0s 2ms/step - loss: 4.4871\n",
            "Epoch 65/100\n",
            "232/232 [==============================] - 0s 2ms/step - loss: 4.4683\n",
            "Epoch 66/100\n",
            "232/232 [==============================] - 0s 2ms/step - loss: 4.4510\n",
            "Epoch 67/100\n",
            "232/232 [==============================] - 0s 2ms/step - loss: 4.4351\n",
            "Epoch 68/100\n",
            "232/232 [==============================] - 0s 2ms/step - loss: 4.4208\n",
            "Epoch 69/100\n",
            "232/232 [==============================] - 0s 2ms/step - loss: 4.4074\n",
            "Epoch 70/100\n",
            "232/232 [==============================] - 0s 2ms/step - loss: 4.3949\n",
            "Epoch 71/100\n",
            "232/232 [==============================] - 0s 2ms/step - loss: 4.3832\n",
            "Epoch 72/100\n",
            "232/232 [==============================] - 0s 2ms/step - loss: 4.3721\n",
            "Epoch 73/100\n",
            "232/232 [==============================] - 0s 2ms/step - loss: 4.3615\n",
            "Epoch 74/100\n",
            "232/232 [==============================] - 0s 2ms/step - loss: 4.3514\n",
            "Epoch 75/100\n",
            "232/232 [==============================] - 0s 2ms/step - loss: 4.3416\n",
            "Epoch 76/100\n",
            "232/232 [==============================] - 0s 2ms/step - loss: 4.3322\n",
            "Epoch 77/100\n",
            "232/232 [==============================] - 0s 2ms/step - loss: 4.3229\n",
            "Epoch 78/100\n",
            "232/232 [==============================] - 0s 2ms/step - loss: 4.3138\n",
            "Epoch 79/100\n",
            "232/232 [==============================] - 0s 2ms/step - loss: 4.3051\n",
            "Epoch 80/100\n",
            "232/232 [==============================] - 0s 2ms/step - loss: 4.2965\n",
            "Epoch 81/100\n",
            "232/232 [==============================] - 0s 2ms/step - loss: 4.2878\n",
            "Epoch 82/100\n",
            "232/232 [==============================] - 0s 2ms/step - loss: 4.2794\n",
            "Epoch 83/100\n",
            "232/232 [==============================] - 0s 2ms/step - loss: 4.2711\n",
            "Epoch 84/100\n",
            "232/232 [==============================] - 0s 2ms/step - loss: 4.2628\n",
            "Epoch 85/100\n",
            "232/232 [==============================] - 0s 2ms/step - loss: 4.2543\n",
            "Epoch 86/100\n",
            "232/232 [==============================] - 0s 2ms/step - loss: 4.2459\n",
            "Epoch 87/100\n",
            "232/232 [==============================] - 0s 2ms/step - loss: 4.2378\n",
            "Epoch 88/100\n",
            "232/232 [==============================] - 0s 2ms/step - loss: 4.2296\n",
            "Epoch 89/100\n",
            "232/232 [==============================] - 0s 2ms/step - loss: 4.2218\n",
            "Epoch 90/100\n",
            "232/232 [==============================] - 0s 2ms/step - loss: 4.2136\n",
            "Epoch 91/100\n",
            "232/232 [==============================] - 0s 2ms/step - loss: 4.2056\n",
            "Epoch 92/100\n",
            "232/232 [==============================] - 0s 2ms/step - loss: 4.1977\n",
            "Epoch 93/100\n",
            "232/232 [==============================] - 0s 2ms/step - loss: 4.1897\n",
            "Epoch 94/100\n",
            "232/232 [==============================] - 0s 2ms/step - loss: 4.1817\n",
            "Epoch 95/100\n",
            "232/232 [==============================] - 0s 2ms/step - loss: 4.1737\n",
            "Epoch 96/100\n",
            "232/232 [==============================] - 0s 2ms/step - loss: 4.1659\n",
            "Epoch 97/100\n",
            "232/232 [==============================] - 0s 2ms/step - loss: 4.1580\n",
            "Epoch 98/100\n",
            "232/232 [==============================] - 0s 2ms/step - loss: 4.1501\n",
            "Epoch 99/100\n",
            "232/232 [==============================] - 0s 2ms/step - loss: 4.1423\n",
            "Epoch 100/100\n",
            "232/232 [==============================] - 0s 2ms/step - loss: 4.1345\n"
          ]
        }
      ]
    },
    {
      "cell_type": "markdown",
      "metadata": {
        "id": "CYjNq3uJkYYR"
      },
      "source": [
        "# **LSTM Prediction**"
      ]
    },
    {
      "cell_type": "code",
      "metadata": {
        "colab": {
          "base_uri": "https://localhost:8080/"
        },
        "id": "f73PT4oHjh4m",
        "outputId": "80e280dd-036e-482c-ac9a-67990061e871"
      },
      "source": [
        "y_pred= lstm.predict(X_test)\n",
        "y_pred"
      ],
      "execution_count": 74,
      "outputs": [
        {
          "output_type": "execute_result",
          "data": {
            "text/plain": [
              "array([[101.75979 ],\n",
              "       [102.62673 ],\n",
              "       [106.965775],\n",
              "       [107.37964 ],\n",
              "       [105.72395 ],\n",
              "       [105.142624],\n",
              "       [101.163956],\n",
              "       [ 98.68027 ],\n",
              "       [ 97.12701 ],\n",
              "       [ 96.99391 ],\n",
              "       [ 97.35133 ],\n",
              "       [ 97.82914 ],\n",
              "       [ 99.002625],\n",
              "       [ 98.39102 ],\n",
              "       [ 97.56846 ],\n",
              "       [ 98.09235 ],\n",
              "       [ 98.34974 ],\n",
              "       [ 97.993034],\n",
              "       [ 97.84683 ],\n",
              "       [ 99.42684 ],\n",
              "       [ 99.25806 ],\n",
              "       [102.52261 ],\n",
              "       [100.1407  ],\n",
              "       [ 95.858025],\n",
              "       [ 95.73352 ],\n",
              "       [ 90.70273 ],\n",
              "       [ 89.19533 ],\n",
              "       [ 90.466896],\n",
              "       [ 90.786606],\n",
              "       [ 90.133446],\n",
              "       [ 87.8201  ],\n",
              "       [ 88.46561 ],\n",
              "       [ 92.30852 ],\n",
              "       [ 95.816154],\n",
              "       [ 96.1078  ],\n",
              "       [ 94.998726],\n",
              "       [ 98.44352 ],\n",
              "       [ 97.35131 ],\n",
              "       [ 94.79854 ],\n",
              "       [ 94.633255],\n",
              "       [ 92.91891 ],\n",
              "       [ 89.36054 ],\n",
              "       [ 87.14048 ],\n",
              "       [ 90.4966  ],\n",
              "       [ 94.3643  ],\n",
              "       [ 96.36304 ],\n",
              "       [ 95.780624],\n",
              "       [ 95.98293 ],\n",
              "       [ 97.88883 ],\n",
              "       [ 99.7001  ],\n",
              "       [ 97.787865],\n",
              "       [103.00421 ],\n",
              "       [106.08698 ],\n",
              "       [106.13576 ],\n",
              "       [104.66242 ],\n",
              "       [105.52877 ],\n",
              "       [105.583626],\n",
              "       [104.72419 ],\n",
              "       [104.90918 ],\n",
              "       [105.04275 ],\n",
              "       [105.42974 ],\n",
              "       [103.005005],\n",
              "       [101.98223 ],\n",
              "       [103.16906 ],\n",
              "       [106.188385],\n",
              "       [109.93587 ],\n",
              "       [111.31134 ],\n",
              "       [111.97193 ],\n",
              "       [112.03416 ],\n",
              "       [109.161995],\n",
              "       [107.57289 ],\n",
              "       [108.81045 ],\n",
              "       [109.35104 ],\n",
              "       [109.208176],\n",
              "       [111.266914],\n",
              "       [112.07789 ],\n",
              "       [112.68151 ],\n",
              "       [114.613976],\n",
              "       [115.73581 ],\n",
              "       [114.09465 ],\n",
              "       [113.53262 ],\n",
              "       [114.016785],\n",
              "       [112.92141 ],\n",
              "       [112.15727 ],\n",
              "       [109.79269 ],\n",
              "       [113.10162 ],\n",
              "       [113.952225],\n",
              "       [114.10942 ],\n",
              "       [113.36572 ],\n",
              "       [113.93584 ],\n",
              "       [115.12943 ],\n",
              "       [113.414444],\n",
              "       [111.887314],\n",
              "       [111.637505],\n",
              "       [109.0156  ],\n",
              "       [113.811905],\n",
              "       [116.80914 ],\n",
              "       [115.920586],\n",
              "       [118.446495],\n",
              "       [119.45986 ],\n",
              "       [119.198044],\n",
              "       [122.65375 ],\n",
              "       [123.94882 ],\n",
              "       [126.25968 ],\n",
              "       [130.30942 ],\n",
              "       [128.8853  ],\n",
              "       [125.221466],\n",
              "       [124.94097 ],\n",
              "       [126.85168 ],\n",
              "       [123.612   ],\n",
              "       [124.58966 ],\n",
              "       [124.483505],\n",
              "       [124.992256],\n",
              "       [124.606766],\n",
              "       [127.97108 ],\n",
              "       [126.83119 ],\n",
              "       [127.50144 ],\n",
              "       [128.54694 ],\n",
              "       [129.71513 ],\n",
              "       [129.0358  ],\n",
              "       [128.58601 ],\n",
              "       [129.82104 ],\n",
              "       [128.1871  ],\n",
              "       [131.54044 ],\n",
              "       [133.26477 ],\n",
              "       [131.66113 ],\n",
              "       [132.3953  ],\n",
              "       [133.6538  ],\n",
              "       [133.0749  ],\n",
              "       [133.17871 ],\n",
              "       [127.59058 ],\n",
              "       [124.61119 ],\n",
              "       [123.438225],\n",
              "       [121.39287 ],\n",
              "       [120.51083 ],\n",
              "       [122.207016],\n",
              "       [123.18763 ],\n",
              "       [124.54986 ],\n",
              "       [124.09289 ],\n",
              "       [121.2517  ],\n",
              "       [121.18071 ],\n",
              "       [122.82629 ],\n",
              "       [122.37695 ],\n",
              "       [122.63726 ],\n",
              "       [122.612686],\n",
              "       [123.929474],\n",
              "       [125.11562 ],\n",
              "       [126.5899  ],\n",
              "       [127.2204  ],\n",
              "       [126.978874],\n",
              "       [124.34544 ],\n",
              "       [122.69238 ],\n",
              "       [121.92909 ],\n",
              "       [122.63317 ],\n",
              "       [121.25048 ],\n",
              "       [117.5125  ],\n",
              "       [117.46829 ],\n",
              "       [117.89699 ],\n",
              "       [117.53575 ],\n",
              "       [116.09561 ],\n",
              "       [117.70932 ],\n",
              "       [114.57241 ],\n",
              "       [111.39654 ],\n",
              "       [110.4132  ],\n",
              "       [109.101845],\n",
              "       [110.60225 ],\n",
              "       [113.25064 ],\n",
              "       [113.26189 ],\n",
              "       [112.43257 ],\n",
              "       [113.06504 ],\n",
              "       [112.072334],\n",
              "       [111.86063 ],\n",
              "       [112.71754 ],\n",
              "       [115.029144],\n",
              "       [117.02537 ],\n",
              "       [117.89637 ],\n",
              "       [116.65187 ],\n",
              "       [115.88689 ],\n",
              "       [115.23273 ],\n",
              "       [117.78344 ],\n",
              "       [115.33855 ],\n",
              "       [118.45203 ],\n",
              "       [120.34942 ],\n",
              "       [119.96121 ],\n",
              "       [121.16336 ]], dtype=float32)"
            ]
          },
          "metadata": {},
          "execution_count": 74
        }
      ]
    },
    {
      "cell_type": "markdown",
      "metadata": {
        "id": "lDTPzQA-kdgt"
      },
      "source": [
        "# **Plotting Results**"
      ]
    },
    {
      "cell_type": "code",
      "metadata": {
        "colab": {
          "base_uri": "https://localhost:8080/",
          "height": 295
        },
        "id": "V517kmg4jlNQ",
        "outputId": "942a1e34-783b-4fdf-bbf1-b51efb86000f"
      },
      "source": [
        "plt.plot(y_test, label='True Value')\n",
        "plt.plot(y_pred, label='LSTM Value')\n",
        "plt.title('Prediction by LSTM')\n",
        "plt.xlabel('Time Scale')\n",
        "plt.ylabel('Scaled Rupees')\n",
        "plt.legend()\n",
        "plt.show()"
      ],
      "execution_count": 75,
      "outputs": [
        {
          "output_type": "display_data",
          "data": {
            "image/png": "[encoded data removed]",
            "text/plain": [
              "<Figure size 432x288 with 1 Axes>"
            ]
          },
          "metadata": {
            "needs_background": "light"
          }
        }
      ]
    }
  ]
}