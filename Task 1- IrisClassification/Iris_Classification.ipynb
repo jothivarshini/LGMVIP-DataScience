{
  "nbformat": 4,
  "nbformat_minor": 0,
  "metadata": {
    "colab": {
      "name": "Iris Classification.ipynb",
      "provenance": [],
      "collapsed_sections": []
    },
    "kernelspec": {
      "name": "python3",
      "display_name": "Python 3"
    },
    "language_info": {
      "name": "python"
    }
  },
  "cells": [
    {
      "cell_type": "markdown",
      "metadata": {
        "id": "WT6_EE_FiyEW"
      },
      "source": [
        "## **Import Files**"
      ]
    },
    {
      "cell_type": "code",
      "metadata": {
        "id": "9dPt3I-dYUbJ"
      },
      "source": [
        "import numpy as np\n",
        "import matplotlib.pyplot as plt ##imports files"
      ],
      "execution_count": null,
      "outputs": []
    },
    {
      "cell_type": "code",
      "metadata": {
        "id": "d8gnShqbZWLB"
      },
      "source": [
        "from sklearn.datasets import load_iris"
      ],
      "execution_count": null,
      "outputs": []
    },
    {
      "cell_type": "markdown",
      "metadata": {
        "id": "Kz80YWerjM9Z"
      },
      "source": [
        "## **Print Dataset**"
      ]
    },
    {
      "cell_type": "code",
      "metadata": {
        "id": "wn4z5PY3aErK"
      },
      "source": [
        "print(dataset.DESCR) ##prints description"
      ],
      "execution_count": null,
      "outputs": []
    },
    {
      "cell_type": "code",
      "metadata": {
        "id": "dp87Mv5VZcFK"
      },
      "source": [
        "dataset = load_iris() ##loads datasets "
      ],
      "execution_count": 45,
      "outputs": []
    },
    {
      "cell_type": "code",
      "metadata": {
        "id": "UAm-l686ZlJO"
      },
      "source": [
        "dataset ##shows us dataset"
      ],
      "execution_count": null,
      "outputs": []
    },
    {
      "cell_type": "markdown",
      "metadata": {
        "id": "VnFx32UyjU68"
      },
      "source": [
        "## **Plot Data**"
      ]
    },
    {
      "cell_type": "code",
      "metadata": {
        "id": "dteLRZbzaUtS"
      },
      "source": [
        "a = dataset.data ##sepal length and petal length"
      ],
      "execution_count": 43,
      "outputs": []
    },
    {
      "cell_type": "code",
      "metadata": {
        "id": "07bsIxAdahb2"
      },
      "source": [
        "b= dataset.target ##data categories"
      ],
      "execution_count": 42,
      "outputs": []
    },
    {
      "cell_type": "code",
      "metadata": {
        "id": "KNuQjExqg21j"
      },
      "source": [
        "a.shape"
      ],
      "execution_count": null,
      "outputs": []
    },
    {
      "cell_type": "code",
      "metadata": {
        "id": "X8a9-y_sg7IG"
      },
      "source": [
        "b.shape"
      ],
      "execution_count": null,
      "outputs": []
    },
    {
      "cell_type": "code",
      "metadata": {
        "id": "NzA58exPixGJ"
      },
      "source": [
        "plt.plot(a[:, 0][b == 0] * a[:, 1][b == 0], a[:, 2][b == 0] * a[:, 3][b == 0], 'm.', label=\"Satosa\")\n",
        "plt.plot(a[:, 0][b == 1] * a[:, 1][b == 1], a[:, 2][b == 1] * a[:, 3][b == 1], 'r.', label=\"Virginica\")\n",
        "plt.plot(a[:, 0][b == 2] * a[:, 1][b == 2], a[:, 2][b == 2] * a[:, 3][b == 2], 'b.', label=\"Versicolour\")\n",
        "plt.legend()\n",
        "plt.show() ##sepal and petal - length and breadth "
      ],
      "execution_count": null,
      "outputs": []
    },
    {
      "cell_type": "markdown",
      "metadata": {
        "id": "9btzfg6NjZvX"
      },
      "source": [
        "## **Import Files for Standardization**"
      ]
    },
    {
      "cell_type": "code",
      "metadata": {
        "id": "4as1TeVAdIS5"
      },
      "source": [
        "from sklearn.preprocessing import StandardScaler\n",
        "StandardScaler().fit_transform(a) ##StandardScaler to standardize data"
      ],
      "execution_count": null,
      "outputs": []
    },
    {
      "cell_type": "code",
      "metadata": {
        "id": "nbvOKsusdV_g"
      },
      "source": [
        "from sklearn.model_selection import train_test_split #train test method"
      ],
      "execution_count": null,
      "outputs": []
    },
    {
      "cell_type": "code",
      "metadata": {
        "id": "qNYlYKnodpMH"
      },
      "source": [
        "a_train,a_test,b_train,b_test = train_test_split(a,b)"
      ],
      "execution_count": null,
      "outputs": []
    },
    {
      "cell_type": "markdown",
      "metadata": {
        "id": "_1PVVnvnjdrD"
      },
      "source": [
        "## **Import Files for Logical Regression and Execution**"
      ]
    },
    {
      "cell_type": "code",
      "metadata": {
        "id": "w_XGleXpgwlD",
        "colab": {
          "base_uri": "https://localhost:8080/"
        },
        "outputId": "fdd9e4cd-b1db-4ebc-e322-c26a747ac458"
      },
      "source": [
        "from sklearn.linear_model import LogisticRegression\n",
        "log_reg = LogisticRegression()\n",
        "log_reg.fit(a_train,b_train) #logicalregression"
      ],
      "execution_count": 36,
      "outputs": [
        {
          "output_type": "execute_result",
          "data": {
            "text/plain": [
              "LogisticRegression(C=1.0, class_weight=None, dual=False, fit_intercept=True,\n",
              "                   intercept_scaling=1, l1_ratio=None, max_iter=100,\n",
              "                   multi_class='auto', n_jobs=None, penalty='l2',\n",
              "                   random_state=None, solver='lbfgs', tol=0.0001, verbose=0,\n",
              "                   warm_start=False)"
            ]
          },
          "metadata": {},
          "execution_count": 36
        }
      ]
    },
    {
      "cell_type": "code",
      "metadata": {
        "colab": {
          "base_uri": "https://localhost:8080/"
        },
        "id": "e3GYKchCihUt",
        "outputId": "42918625-3236-4f1e-de4a-37fcf84448f6"
      },
      "source": [
        "log_reg.score(a_train,b_train)"
      ],
      "execution_count": 40,
      "outputs": [
        {
          "output_type": "execute_result",
          "data": {
            "text/plain": [
              "0.9553571428571429"
            ]
          },
          "metadata": {},
          "execution_count": 40
        }
      ]
    },
    {
      "cell_type": "code",
      "metadata": {
        "colab": {
          "base_uri": "https://localhost:8080/"
        },
        "id": "MmMS7xp1iW5V",
        "outputId": "6f37a57f-52c3-4aad-f097-2c4f75d9b014"
      },
      "source": [
        "log_reg.score(a_test,b_test)"
      ],
      "execution_count": 38,
      "outputs": [
        {
          "output_type": "execute_result",
          "data": {
            "text/plain": [
              "0.9736842105263158"
            ]
          },
          "metadata": {},
          "execution_count": 38
        }
      ]
    },
    {
      "cell_type": "code",
      "metadata": {
        "colab": {
          "base_uri": "https://localhost:8080/"
        },
        "id": "y30ESNCLiPxd",
        "outputId": "2321b74e-1ffb-4301-f8e3-c01d65e19468"
      },
      "source": [
        "log_reg.score(a,b)"
      ],
      "execution_count": 39,
      "outputs": [
        {
          "output_type": "execute_result",
          "data": {
            "text/plain": [
              "0.96"
            ]
          },
          "metadata": {},
          "execution_count": 39
        }
      ]
    },
    {
      "cell_type": "code",
      "metadata": {
        "colab": {
          "base_uri": "https://localhost:8080/"
        },
        "id": "jkpLLjdHkEjP",
        "outputId": "9dd901a0-c147-49a4-e2c0-e756702d32b1"
      },
      "source": [
        "print(\"Accuracy:\",log_reg.score(a_test,b_test) * 100) ##accuracy for Logical Regression"
      ],
      "execution_count": 48,
      "outputs": [
        {
          "output_type": "stream",
          "name": "stdout",
          "text": [
            "Accuracy: 97.36842105263158\n"
          ]
        }
      ]
    },
    {
      "cell_type": "markdown",
      "metadata": {
        "id": "qGU2W9d9kbm9"
      },
      "source": [
        "## **K Nearest Neighbors**"
      ]
    },
    {
      "cell_type": "code",
      "metadata": {
        "id": "7bycSAwpkgkf"
      },
      "source": [
        "from sklearn.neighbors import KNeighborsClassifier\n",
        "knn_model = KNeighborsClassifier() ##import KNeighborsClassifer files"
      ],
      "execution_count": 49,
      "outputs": []
    },
    {
      "cell_type": "code",
      "metadata": {
        "id": "dxH3iRbGlBKv"
      },
      "source": [
        "knn_model.fit(a_train,b_train)"
      ],
      "execution_count": null,
      "outputs": []
    },
    {
      "cell_type": "code",
      "metadata": {
        "id": "wunIDaHdlIz5"
      },
      "source": [
        "print(\"Accuracy\",knn_model.score(a_test,b_test) * 100) ##prints accuracy of model"
      ],
      "execution_count": null,
      "outputs": []
    }
  ]
}